{
 "cells": [
  {
   "cell_type": "code",
   "execution_count": 1,
   "id": "29cf90a9-dd15-4cbe-9dbc-432c942905a5",
   "metadata": {},
   "outputs": [
    {
     "data": {
      "text/plain": [
       "'E:\\\\RajaRajeshwari\\\\mlops_course\\\\mlopscourse_main\\\\notebooks'"
      ]
     },
     "execution_count": 1,
     "metadata": {},
     "output_type": "execute_result"
    }
   ],
   "source": [
    "pwd"
   ]
  },
  {
   "cell_type": "code",
   "execution_count": 10,
   "id": "091d8acb-4956-4e4d-96c5-212a8ca8ce12",
   "metadata": {},
   "outputs": [],
   "source": [
    "from src.get_data import read_params\n",
    "import argparse\n",
    "import mlflow\n",
    "from mlflow.tracking import MlflowClient\n",
    "from pprint import pprint\n",
    "import joblib\n",
    "import os\n",
    "\n",
    "os.chdir('E:\\\\RajaRajeshwari\\\\mlops_course\\\\mlopscourse_main')\n",
    "\n",
    "def log_production_model(config_path):\n",
    "    \"\"\"\n",
    "    Log the production model\n",
    "    \"\"\"\n",
    "    config = read_params(config_path)\n",
    "\n",
    "    mlflow_config = config[\"mlflow_config\"]\n",
    "    #model_name = mlflow_config[\"registered_model_name\"]\n",
    "    model_name = \"model\"\n",
    "    remote_server_uri = mlflow_config[\"remote_server_uri\"]\n",
    "    mlflow.set_tracking_uri(remote_server_uri)\n",
    "\n",
    "    runs = mlflow.search_runs(experiment_ids=\"1\")\n",
    "    lowest = runs[\"metrics.MAE\"].sort_values(ascending=True)[0]\n",
    "    lowest_run_id = runs[runs[\"metrics.MAE\"] == lowest][\"run_id\"][0]\n",
    "    logged_model = None\n",
    "\n",
    "    client = MlflowClient()\n",
    "    for mv in client.search_model_versions(f\"name='{model_name}'\"):\n",
    "        mv = dict(mv)\n",
    "\n",
    "    #     if mv[\"run_id\"] == lowest_run_id:\n",
    "    #         current_version = mv[\"version\"]\n",
    "    #         logged_model = mv[\"source\"]\n",
    "    #         pprint(mv, indent=4)\n",
    "    #         client.transistion_model_version_stage(name=model_name, version=current_version, stage=\"Production\")\n",
    "    #     else:\n",
    "    #         current_version = mv[\"version\"]\n",
    "    #         client.transistion_model_version_stage(name=model_name, version=current_version, stage=\"Staging\")\n",
    "    #\n",
    "    # loaded_model = mlflow.pyfunc.log_model(logged_model)\n",
    "    # model_path = config[\"webapp_model_dir\"]\n",
    "    #\n",
    "\n",
    "\n",
    "log_production_model(\"params.yaml\")"
   ]
  },
  {
   "cell_type": "code",
   "execution_count": null,
   "id": "bb9dc3b6-529c-40f6-9505-21bb602fb6a5",
   "metadata": {},
   "outputs": [],
   "source": []
  }
 ],
 "metadata": {
  "kernelspec": {
   "display_name": "Python 3 (ipykernel)",
   "language": "python",
   "name": "python3"
  },
  "language_info": {
   "codemirror_mode": {
    "name": "ipython",
    "version": 3
   },
   "file_extension": ".py",
   "mimetype": "text/x-python",
   "name": "python",
   "nbconvert_exporter": "python",
   "pygments_lexer": "ipython3",
   "version": "3.10.0"
  }
 },
 "nbformat": 4,
 "nbformat_minor": 5
}
